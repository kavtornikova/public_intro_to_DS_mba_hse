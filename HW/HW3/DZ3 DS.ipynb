{
 "cells": [
  {
   "cell_type": "markdown",
   "id": "34cab831",
   "metadata": {
    "id": "4c5300b0"
   },
   "source": [
    "# Дз 3. Тестирование статистических гипотез"
   ]
  },
  {
   "cell_type": "markdown",
   "id": "da160194",
   "metadata": {
    "id": "e41ea851"
   },
   "source": [
    "<div class=\"alert alert-info\" role=\"alert\">\n",
    "\n",
    "Важно!\n",
    "\n",
    "* Плагиат карается обнулением работы\n",
    "* При использовании чужого кода из открытых источников необходимо указать ссылку на источник\n",
    "* В каждой задаче необходимо обосновывать выбор статистического критерия, формулировать нулевую и альтернативную гипотезу и делать интерпретацию получившихся результатов, а также содержательный вывод.\n",
    "* Весь текст оформляется строго в ячейках типа markdown"
   ]
  },
  {
   "cell_type": "code",
   "execution_count": 6,
   "id": "552587bd",
   "metadata": {},
   "outputs": [],
   "source": [
    "import numpy as np\n",
    "import pandas as pd\n",
    "from scipy import stats as ss"
   ]
  },
  {
   "cell_type": "markdown",
   "id": "bfc0f3bf",
   "metadata": {
    "id": "e463f5b5"
   },
   "source": [
    "## Задача 1. Осьминог Пауль (2 балла)\n",
    "\n",
    "\n",
    "В период с 2008 по 2010 год в Германии жил Осьминог Пауль, который был известен тем, что мог предсказывать результаты матчей с участием сборной Германии.     \n",
    "   \n",
    "В таблице ниже вы можете видеть результаты его предсказаний: \n"
   ]
  },
  {
   "cell_type": "markdown",
   "id": "64c05695",
   "metadata": {
    "id": "63504b80"
   },
   "source": [
    "<a href=\"https://ibb.co/VWnc5yG\"><img src=\"https://i.ibb.co/QFS3tBV/image.jpg\" alt=\"image\" border=\"0\"></a>"
   ]
  },
  {
   "cell_type": "markdown",
   "id": "4ef031e1",
   "metadata": {
    "id": "346f6376"
   },
   "source": [
    "Если считать, что случайным образом мы угадывали ли бы 50% матчей, то можно ли утверждать, что осьминог Пауль был талантливым экстрасенсом со способностями к предсказаниям? Важно! Учитывайте только факт угадывания или неугадывания, остальные параметры матчей не важны."
   ]
  },
  {
   "cell_type": "markdown",
   "id": "181dcbe2",
   "metadata": {},
   "source": [
    "Формулируем гипотезы: \n",
    "Нулевая гипотеза - \n",
    "\n",
    "- Ho: p = 0.5\n",
    "- H1: p != 0.5 \n",
    "\n"
   ]
  },
  {
   "cell_type": "code",
   "execution_count": 7,
   "id": "fe2955f5",
   "metadata": {
    "id": "9072470f"
   },
   "outputs": [
    {
     "data": {
      "text/plain": [
       "0.01123046875"
      ]
     },
     "execution_count": 7,
     "metadata": {},
     "output_type": "execute_result"
    }
   ],
   "source": [
    "ss.binom_test(11, 13, 0.5, alternative = 'greater') \n",
    "# 13 - количество выборки 11 - угаданные 0.5 - вероятность в теории"
   ]
  },
  {
   "cell_type": "markdown",
   "id": "04e60140",
   "metadata": {},
   "source": [
    "p-value больше 0,01(уровень значимости), нулевая гипотеза не отвергается, вероятность может быть равна 0.5 Далее мы будем проверять все гипотезы на уровне значимости 0.01"
   ]
  },
  {
   "cell_type": "markdown",
   "id": "2de04122",
   "metadata": {
    "id": "de312a8f"
   },
   "source": [
    "## Задача 2.  Корм и котики (2 балла)\n",
    "\n",
    "    \n",
    "Новый корм для котиков рекламируется с помощью рекламного баннера. Отдел маркетинга разработал для рекламы новый баннер. Они считают, что он более красивый. Перед фирмой возникла необходимость проверить какой из двух баннеров лучше.\n",
    "\n",
    "Для этого была создана специальная веб-форма. В этой веб-форме людям по очереди демонстрировали оба баннера и просили поставить лайк, если баннер нравится человеку. Если человеку нравятся оба баннера, он может поставить два лайка. Если ему не нравится ни один баннер, он может не ставить лайки вовсе. Собранные в конечном итоге данные находятся в табличке.\n",
    "\n",
    "Можно ли утверждать, что оба баннера одинаково хороши? Сформулируйте статистическую гипотезу для проверки того, что оба баннера выбирают одинаково часто. Проверьте ее и сделайте выводы.\n"
   ]
  },
  {
   "cell_type": "markdown",
   "id": "1dddbb73",
   "metadata": {},
   "source": [
    "Формулируем гипотезы: \n",
    "Нулевая гипотеза - \n",
    "\n",
    "- Ho: p1 = p2\n",
    "- H1: p1 != p2\n",
    "\n",
    "Здесь нужно использовать знаковый критерий, так как выборки связаны."
   ]
  },
  {
   "cell_type": "code",
   "execution_count": 8,
   "id": "55e66ba2",
   "metadata": {},
   "outputs": [
    {
     "data": {
      "text/html": [
       "<div>\n",
       "<style scoped>\n",
       "    .dataframe tbody tr th:only-of-type {\n",
       "        vertical-align: middle;\n",
       "    }\n",
       "\n",
       "    .dataframe tbody tr th {\n",
       "        vertical-align: top;\n",
       "    }\n",
       "\n",
       "    .dataframe thead th {\n",
       "        text-align: right;\n",
       "    }\n",
       "</style>\n",
       "<table border=\"1\" class=\"dataframe\">\n",
       "  <thead>\n",
       "    <tr style=\"text-align: right;\">\n",
       "      <th></th>\n",
       "      <th>0</th>\n",
       "      <th>1</th>\n",
       "    </tr>\n",
       "  </thead>\n",
       "  <tbody>\n",
       "    <tr>\n",
       "      <th>0</th>\n",
       "      <td>0</td>\n",
       "      <td>0</td>\n",
       "    </tr>\n",
       "    <tr>\n",
       "      <th>1</th>\n",
       "      <td>1</td>\n",
       "      <td>1</td>\n",
       "    </tr>\n",
       "    <tr>\n",
       "      <th>2</th>\n",
       "      <td>0</td>\n",
       "      <td>0</td>\n",
       "    </tr>\n",
       "    <tr>\n",
       "      <th>3</th>\n",
       "      <td>0</td>\n",
       "      <td>0</td>\n",
       "    </tr>\n",
       "    <tr>\n",
       "      <th>4</th>\n",
       "      <td>0</td>\n",
       "      <td>0</td>\n",
       "    </tr>\n",
       "  </tbody>\n",
       "</table>\n",
       "</div>"
      ],
      "text/plain": [
       "   0  1\n",
       "0  0  0\n",
       "1  1  1\n",
       "2  0  0\n",
       "3  0  0\n",
       "4  0  0"
      ]
     },
     "execution_count": 8,
     "metadata": {},
     "output_type": "execute_result"
    }
   ],
   "source": [
    "url = 'https://raw.githubusercontent.com/V-Marco/public_intro_to_DS_mba_hse/main/HW/HW3/banner_click_stat.csv'\n",
    "df2 = pd.read_csv(url, sep = \"\\t\", header = None)\n",
    "df2.head()"
   ]
  },
  {
   "cell_type": "code",
   "execution_count": 9,
   "id": "2b2aa315",
   "metadata": {},
   "outputs": [],
   "source": [
    "from statsmodels.stats.descriptivestats import sign_test "
   ]
  },
  {
   "cell_type": "code",
   "execution_count": 10,
   "id": "3669cc52",
   "metadata": {
    "id": "167378f2"
   },
   "outputs": [
    {
     "data": {
      "text/plain": [
       "(-910.0, 0.0)"
      ]
     },
     "execution_count": 10,
     "metadata": {},
     "output_type": "execute_result"
    }
   ],
   "source": [
    "sign_test(df2, 0.5) "
   ]
  },
  {
   "cell_type": "markdown",
   "id": "60b7a53c",
   "metadata": {},
   "source": [
    "p-value меньше 0,01(уровень значимости), нулевая гипотеза отвергается, банеры являются привлекательными по-разному."
   ]
  },
  {
   "cell_type": "markdown",
   "id": "0985f102",
   "metadata": {
    "id": "ceefe195"
   },
   "source": [
    "## Задача 3. Немного АВ-тестов (3 балла)\n",
    "## Игра Cookie Cat"
   ]
  },
  {
   "cell_type": "markdown",
   "id": "c2238384",
   "metadata": {
    "id": "7a6e5960"
   },
   "source": [
    "В этом задании мы поработаем с данными Cookie Cats - популярной игры-головоломки, которую разработала компания Tactile Entertainment. В этой игре игрок должен соединять одинаковые элементы в ряд, чтобы очистить поле и выиграть уровень. "
   ]
  },
  {
   "cell_type": "markdown",
   "id": "43a823f6",
   "metadata": {
    "id": "f010877f"
   },
   "source": [
    "<p style=\"align: center;\"><img align=center src=\"https://i.ytimg.com/vi/iPxZIp0cbJE/maxresdefault.jpg\"  width=500></p>\n",
    " \n",
    " \n",
    "<p style=\"align: center;\"><img align=center src=\"https://s3.amazonaws.com/assets.datacamp.com/production/project_184/img/cc_gates.png\"  width=500></p>\n"
   ]
  },
  {
   "cell_type": "markdown",
   "id": "eb24e331",
   "metadata": {
    "id": "45a869f8"
   },
   "source": [
    "По мере прохождения уровней перед игроками появляются ворота, открытия которых нужно ждать какое-то время или пропускать их, совершая покупки в приложении. С точки зрения создателей эти ворота повышают интерес к игре и стимулируют к вложению денег в игру.\n"
   ]
  },
  {
   "cell_type": "markdown",
   "id": "3c201c2e",
   "metadata": {
    "id": "1992bbd9"
   },
   "source": [
    "Но у создателей появляется важный вопрос: **где лучше всего ставить ворота?**\n",
    "Первоначально первые ворота были размещены на уровне 30. Однако есть гипотеза, что лучше переместить их на уровень 40. В этом задании вам предлагается проанализировать результаты AB-теста, в котором создатели переместили первые ворота в Cookie Cats с 30 уровня на уровень 40. "
   ]
  },
  {
   "cell_type": "markdown",
   "id": "f224a053",
   "metadata": {
    "id": "0178c412"
   },
   "source": [
    "**Данные получены от 90 189 игроков, которые установили игру во время проведения AB-теста. Переменные:**\n",
    "\n",
    "* `userid` - уникальный номер, идентифицирующий каждого игрока.\n",
    "\n",
    "* `version` - был ли игрок помещен в контрольную группу (gate_30 - ворота на уровне 30) или в тестовую группу (gate_40 - ворота на уровне 40).\n",
    "\n",
    "* `sum_gamerounds` - количество игровых раундов, сыгранных игроком в течение первой недели после установки\n",
    "* `retention_1` - вернулся ли игрок в игру через 1 день после установки\n",
    "* `retention_7` - вернулся ли игрок в игру через 7 дней после установки\n",
    "\n",
    "Когда игрок устанавливал игру, ему случайным образом назначали `gate_30` или `gate_40`."
   ]
  },
  {
   "cell_type": "code",
   "execution_count": 24,
   "id": "b5cdae7e",
   "metadata": {
    "id": "5d32953b",
    "outputId": "e19bff24-d56e-419f-9197-a6169b9e1cf4"
   },
   "outputs": [
    {
     "data": {
      "text/html": [
       "<div>\n",
       "<style scoped>\n",
       "    .dataframe tbody tr th:only-of-type {\n",
       "        vertical-align: middle;\n",
       "    }\n",
       "\n",
       "    .dataframe tbody tr th {\n",
       "        vertical-align: top;\n",
       "    }\n",
       "\n",
       "    .dataframe thead th {\n",
       "        text-align: right;\n",
       "    }\n",
       "</style>\n",
       "<table border=\"1\" class=\"dataframe\">\n",
       "  <thead>\n",
       "    <tr style=\"text-align: right;\">\n",
       "      <th></th>\n",
       "      <th>userid</th>\n",
       "      <th>version</th>\n",
       "      <th>sum_gamerounds</th>\n",
       "      <th>retention_1</th>\n",
       "      <th>retention_7</th>\n",
       "    </tr>\n",
       "  </thead>\n",
       "  <tbody>\n",
       "    <tr>\n",
       "      <th>0</th>\n",
       "      <td>116</td>\n",
       "      <td>gate_30</td>\n",
       "      <td>3</td>\n",
       "      <td>False</td>\n",
       "      <td>False</td>\n",
       "    </tr>\n",
       "    <tr>\n",
       "      <th>1</th>\n",
       "      <td>337</td>\n",
       "      <td>gate_30</td>\n",
       "      <td>38</td>\n",
       "      <td>True</td>\n",
       "      <td>False</td>\n",
       "    </tr>\n",
       "    <tr>\n",
       "      <th>2</th>\n",
       "      <td>377</td>\n",
       "      <td>gate_40</td>\n",
       "      <td>165</td>\n",
       "      <td>True</td>\n",
       "      <td>False</td>\n",
       "    </tr>\n",
       "    <tr>\n",
       "      <th>3</th>\n",
       "      <td>483</td>\n",
       "      <td>gate_40</td>\n",
       "      <td>1</td>\n",
       "      <td>False</td>\n",
       "      <td>False</td>\n",
       "    </tr>\n",
       "    <tr>\n",
       "      <th>4</th>\n",
       "      <td>488</td>\n",
       "      <td>gate_40</td>\n",
       "      <td>179</td>\n",
       "      <td>True</td>\n",
       "      <td>True</td>\n",
       "    </tr>\n",
       "  </tbody>\n",
       "</table>\n",
       "</div>"
      ],
      "text/plain": [
       "   userid  version  sum_gamerounds  retention_1  retention_7\n",
       "0     116  gate_30               3        False        False\n",
       "1     337  gate_30              38         True        False\n",
       "2     377  gate_40             165         True        False\n",
       "3     483  gate_40               1        False        False\n",
       "4     488  gate_40             179         True         True"
      ]
     },
     "execution_count": 24,
     "metadata": {},
     "output_type": "execute_result"
    }
   ],
   "source": [
    "import pandas as pd\n",
    "df3 = pd.read_csv('cookie_cats.csv')\n",
    "df3.head()"
   ]
  },
  {
   "cell_type": "code",
   "execution_count": 12,
   "id": "b91c5b33",
   "metadata": {
    "id": "563bbcbb",
    "outputId": "4467f65d-2988-455a-ebf0-ec78e3269d38"
   },
   "outputs": [
    {
     "name": "stdout",
     "output_type": "stream",
     "text": [
      "<class 'pandas.core.frame.DataFrame'>\n",
      "RangeIndex: 90189 entries, 0 to 90188\n",
      "Data columns (total 5 columns):\n",
      " #   Column          Non-Null Count  Dtype \n",
      "---  ------          --------------  ----- \n",
      " 0   userid          90189 non-null  int64 \n",
      " 1   version         90189 non-null  object\n",
      " 2   sum_gamerounds  90189 non-null  int64 \n",
      " 3   retention_1     90189 non-null  bool  \n",
      " 4   retention_7     90189 non-null  bool  \n",
      "dtypes: bool(2), int64(2), object(1)\n",
      "memory usage: 2.2+ MB\n"
     ]
    }
   ],
   "source": [
    "df3.info()"
   ]
  },
  {
   "cell_type": "markdown",
   "id": "92bfbb9b",
   "metadata": {
    "id": "2bd5758d"
   },
   "source": [
    "### Вопрос 1: есть ли зависимость между возвращаемостью игроков и расположением ворот?"
   ]
  },
  {
   "cell_type": "markdown",
   "id": "199a76ee",
   "metadata": {
    "id": "c5412061"
   },
   "source": [
    "#### 1.1 Проверьте гипотезу для возвращения через день"
   ]
  },
  {
   "cell_type": "markdown",
   "id": "8454b737",
   "metadata": {},
   "source": [
    "Формулируем гипотезы: \n",
    "Нулевая гипотеза - \n",
    "\n",
    "- Ho: нет зависимости\n",
    "- H1: есть зависимость\n",
    "\n",
    "Здесь нужно использовать хи-квадрат тест."
   ]
  },
  {
   "cell_type": "code",
   "execution_count": 17,
   "id": "aa53d9e3",
   "metadata": {},
   "outputs": [
    {
     "data": {
      "text/plain": [
       "(3.182963657512031,\n",
       " 0.07440965529692188,\n",
       " 1,\n",
       " array([[24799.13514952, 19900.86485048],\n",
       "        [25236.86485048, 20252.13514952]]))"
      ]
     },
     "execution_count": 17,
     "metadata": {},
     "output_type": "execute_result"
    }
   ],
   "source": [
    "table1 = df3.groupby('version').retention_1\n",
    "table1 = table1.value_counts()\n",
    "table1 = table1.unstack()\n",
    "\n",
    "results = ss.chi2_contingency(table1,correction = False)\n",
    "results"
   ]
  },
  {
   "cell_type": "markdown",
   "id": "594daab2",
   "metadata": {
    "id": "e7ee4751"
   },
   "source": [
    "p-value больше 0,01 (уровень значимости), нулевая гипотеза не отвергается, нет зависимости между параметрами."
   ]
  },
  {
   "cell_type": "markdown",
   "id": "66430207",
   "metadata": {
    "id": "15ebcdad"
   },
   "source": [
    "#### 2.2 Проверьте гипотезу для возвращения через семь дней"
   ]
  },
  {
   "cell_type": "code",
   "execution_count": 18,
   "id": "132fb602",
   "metadata": {},
   "outputs": [
    {
     "data": {
      "text/plain": [
       "(10.013167328688969,\n",
       " 0.0015542499756142805,\n",
       " 1,\n",
       " array([[36382.90257127,  8317.09742873],\n",
       "        [37025.09742873,  8463.90257127]]))"
      ]
     },
     "execution_count": 18,
     "metadata": {},
     "output_type": "execute_result"
    }
   ],
   "source": [
    "table1 = df3.groupby('version').retention_7\n",
    "table1 = table1.value_counts()\n",
    "table1 = table1.unstack()\n",
    "\n",
    "results = ss.chi2_contingency(table1,correction = False)\n",
    "results"
   ]
  },
  {
   "cell_type": "markdown",
   "id": "9230e375",
   "metadata": {
    "id": "1703de87"
   },
   "source": [
    "p-value меньше 0,01 (уровень значимости), нулевая гипотеза отвергается, у нас есть зависимость между параметрами возвращаемостью игроков и расположением ворот. "
   ]
  },
  {
   "cell_type": "markdown",
   "id": "8bebb8a2",
   "metadata": {
    "id": "498a3f1d"
   },
   "source": [
    "### Вопрос 2: Отличается ли среднее количество раундов в группах gate_40 и gate_30?"
   ]
  },
  {
   "cell_type": "markdown",
   "id": "853a4a91",
   "metadata": {},
   "source": [
    "Формулируем гипотезы: \n",
    "Нулевая гипотеза - \n",
    "\n",
    "- Ho: $ \\mu0 = \\mu1 $\n",
    "- H1: $ \\mu0 != \\mu1 $\n",
    "\n",
    "так как сравниваются средние, то будем использовать т тест."
   ]
  },
  {
   "cell_type": "code",
   "execution_count": 19,
   "id": "18fde217",
   "metadata": {
    "id": "a2504ebd"
   },
   "outputs": [
    {
     "name": "stdout",
     "output_type": "stream",
     "text": [
      "0      3\n",
      "1     38\n",
      "6      0\n",
      "11     0\n",
      "13    39\n",
      "Name: sum_gamerounds, dtype: int64\n",
      "2    165\n",
      "3      1\n",
      "4    179\n",
      "5    187\n",
      "7      2\n",
      "Name: sum_gamerounds, dtype: int64\n"
     ]
    }
   ],
   "source": [
    "table2 = df3[df3['version'] == 'gate_30']['sum_gamerounds'] \n",
    "print(table2.head())\n",
    "\n",
    "table3 = df3[df3['version'] == 'gate_40']['sum_gamerounds'] \n",
    "print(table3.head())"
   ]
  },
  {
   "cell_type": "code",
   "execution_count": 21,
   "id": "be5398e3",
   "metadata": {},
   "outputs": [
    {
     "data": {
      "text/plain": [
       "Ttest_indResult(statistic=0.8910426211362967, pvalue=0.37290868247405207)"
      ]
     },
     "execution_count": 21,
     "metadata": {},
     "output_type": "execute_result"
    }
   ],
   "source": [
    "results = ss.ttest_ind(table2, table3)\n",
    "results"
   ]
  },
  {
   "cell_type": "markdown",
   "id": "e965657f",
   "metadata": {},
   "source": [
    "p-value больше 0,01 (уровень значимости), нулевая гипотеза не отвергается, средние двух групп gate_40 и gate_30 равны."
   ]
  },
  {
   "cell_type": "markdown",
   "id": "2724a736",
   "metadata": {
    "id": "e236e864"
   },
   "source": [
    "### Вопрос 3: Отличается ли медианное количество раундов в группах gate_40 и gate_30?"
   ]
  },
  {
   "cell_type": "markdown",
   "id": "5dab6f49",
   "metadata": {},
   "source": [
    "Формулируем гипотезы: \n",
    "Нулевая гипотеза - \n",
    "\n",
    "- Ho: $ me0 = me1 $\n",
    "- H1: $ me0 != me1 $\n",
    "\n",
    "проводить проверку гипотез будем по тесту Манна-Уитни"
   ]
  },
  {
   "cell_type": "code",
   "execution_count": 23,
   "id": "ed0d5268",
   "metadata": {
    "id": "955578c4"
   },
   "outputs": [
    {
     "name": "stdout",
     "output_type": "stream",
     "text": [
      "0      3\n",
      "1     38\n",
      "6      0\n",
      "11     0\n",
      "13    39\n",
      "Name: sum_gamerounds, dtype: int64\n",
      "2    165\n",
      "3      1\n",
      "4    179\n",
      "5    187\n",
      "7      2\n",
      "Name: sum_gamerounds, dtype: int64\n"
     ]
    },
    {
     "data": {
      "text/plain": [
       "MannwhitneyuResult(statistic=1024331250.5, pvalue=0.05020880772044255)"
      ]
     },
     "execution_count": 23,
     "metadata": {},
     "output_type": "execute_result"
    }
   ],
   "source": [
    "table2 = df3[df3['version'] == 'gate_30']['sum_gamerounds'] \n",
    "print(table2.head())\n",
    "\n",
    "table3 = df3[df3['version'] == 'gate_40']['sum_gamerounds'] \n",
    "print(table3.head())\n",
    "\n",
    "results = ss.mannwhitneyu(table2, table3)\n",
    "results"
   ]
  },
  {
   "cell_type": "markdown",
   "id": "cca7896b",
   "metadata": {},
   "source": [
    "p-value больше 0,01 (уровень значимости), нулевая гипотеза не отвергается, медианные значения раундов для двух групп gate_40 и gate_30 равны."
   ]
  },
  {
   "cell_type": "markdown",
   "id": "dbbb0613",
   "metadata": {
    "id": "03f0c2b4"
   },
   "source": [
    "## Задача 4: Время покемонов (3 балла)"
   ]
  },
  {
   "cell_type": "markdown",
   "id": "3e6b571b",
   "metadata": {
    "id": "413f4923"
   },
   "source": [
    "В данной задаче вам будет необходимо проанализировать различные характеристики покемонов и сравнить их между собой"
   ]
  },
  {
   "cell_type": "markdown",
   "id": "b7956902",
   "metadata": {
    "id": "a253705e"
   },
   "source": [
    "<p style=\"align: center;\"><img align=center src=\"https://proprikol.ru/wp-content/uploads/2020/11/kartinki-pokemonov-2.jpg\"  width=500></p>"
   ]
  },
  {
   "cell_type": "markdown",
   "id": "9b8ca46e",
   "metadata": {
    "id": "1810bfee"
   },
   "source": [
    "Покемоны - это маленькие существа, которые сражаются друг с другом на соревнованиях. Все покемоны имеют разные характеристики (сила атаки, защиты и т. д.) и относятся к одному или двум так называемым классам (вода, огонь и т. д.). Профессор Оук является изобретателем Pokedex, портативного устройства, которое хранит информацию обо всех существующих покемонах. Как его ведущий специалист по данным, Вы только что получили от него запрос с просьбой осуществить аналитику данных на всех устройствах Pokedex."
   ]
  },
  {
   "cell_type": "markdown",
   "id": "7056cdf5",
   "metadata": {},
   "source": [
    "### Описание данных\n",
    "\n",
    "Профессор Оук скопировал все содержимое память одного устройства Pokedex, в результате чего получился набор данных, с которым Вы будете работать в этой задаче. В этом файле каждая строка представляет характеристики одного покемона:\n",
    "\n",
    "* pid: Numeric - ID покемона\n",
    "* HP: Numeric - Очки здоровья\n",
    "* Attack: Numeric - Сила обычной атаки\n",
    "* Defense: Numeric - Сила обычной защиты\n",
    "* Sp. Atk: Numeric - Сила специальной атаки\n",
    "* Sp. Def: Numeric - Сила специальной защиты\n",
    "* Speed: Numeric - Скорость движений\n",
    "* Legendary: Boolean - «True», если покемон редкий\n",
    "* Class 1: Categorical - Класс покемона\n",
    "* Class 2: Categorical - Класс покемона"
   ]
  },
  {
   "cell_type": "code",
   "execution_count": 25,
   "id": "7b810eeb",
   "metadata": {},
   "outputs": [
    {
     "data": {
      "text/html": [
       "<div>\n",
       "<style scoped>\n",
       "    .dataframe tbody tr th:only-of-type {\n",
       "        vertical-align: middle;\n",
       "    }\n",
       "\n",
       "    .dataframe tbody tr th {\n",
       "        vertical-align: top;\n",
       "    }\n",
       "\n",
       "    .dataframe thead th {\n",
       "        text-align: right;\n",
       "    }\n",
       "</style>\n",
       "<table border=\"1\" class=\"dataframe\">\n",
       "  <thead>\n",
       "    <tr style=\"text-align: right;\">\n",
       "      <th></th>\n",
       "      <th>pid</th>\n",
       "      <th>Name</th>\n",
       "      <th>Class 1</th>\n",
       "      <th>Class 2</th>\n",
       "      <th>HP</th>\n",
       "      <th>Attack</th>\n",
       "      <th>Defense</th>\n",
       "      <th>Sp. Atk</th>\n",
       "      <th>Sp. Def</th>\n",
       "      <th>Speed</th>\n",
       "      <th>Legendary</th>\n",
       "    </tr>\n",
       "  </thead>\n",
       "  <tbody>\n",
       "    <tr>\n",
       "      <th>0</th>\n",
       "      <td>1</td>\n",
       "      <td>Bulbasaur</td>\n",
       "      <td>Grass</td>\n",
       "      <td>Poison</td>\n",
       "      <td>45</td>\n",
       "      <td>49</td>\n",
       "      <td>49</td>\n",
       "      <td>65</td>\n",
       "      <td>65</td>\n",
       "      <td>45</td>\n",
       "      <td>False</td>\n",
       "    </tr>\n",
       "    <tr>\n",
       "      <th>1</th>\n",
       "      <td>2</td>\n",
       "      <td>Ivysaur</td>\n",
       "      <td>Grass</td>\n",
       "      <td>Poison</td>\n",
       "      <td>60</td>\n",
       "      <td>62</td>\n",
       "      <td>63</td>\n",
       "      <td>80</td>\n",
       "      <td>80</td>\n",
       "      <td>60</td>\n",
       "      <td>False</td>\n",
       "    </tr>\n",
       "    <tr>\n",
       "      <th>2</th>\n",
       "      <td>3</td>\n",
       "      <td>Venusaur</td>\n",
       "      <td>Grass</td>\n",
       "      <td>Poison</td>\n",
       "      <td>80</td>\n",
       "      <td>82</td>\n",
       "      <td>83</td>\n",
       "      <td>100</td>\n",
       "      <td>100</td>\n",
       "      <td>80</td>\n",
       "      <td>False</td>\n",
       "    </tr>\n",
       "    <tr>\n",
       "      <th>3</th>\n",
       "      <td>4</td>\n",
       "      <td>Mega Venusaur</td>\n",
       "      <td>Grass</td>\n",
       "      <td>Poison</td>\n",
       "      <td>80</td>\n",
       "      <td>100</td>\n",
       "      <td>123</td>\n",
       "      <td>122</td>\n",
       "      <td>120</td>\n",
       "      <td>80</td>\n",
       "      <td>False</td>\n",
       "    </tr>\n",
       "    <tr>\n",
       "      <th>4</th>\n",
       "      <td>5</td>\n",
       "      <td>Charmander</td>\n",
       "      <td>Fire</td>\n",
       "      <td>NaN</td>\n",
       "      <td>39</td>\n",
       "      <td>52</td>\n",
       "      <td>43</td>\n",
       "      <td>60</td>\n",
       "      <td>50</td>\n",
       "      <td>65</td>\n",
       "      <td>False</td>\n",
       "    </tr>\n",
       "  </tbody>\n",
       "</table>\n",
       "</div>"
      ],
      "text/plain": [
       "   pid           Name Class 1 Class 2  HP  Attack  Defense  Sp. Atk  Sp. Def  \\\n",
       "0    1      Bulbasaur   Grass  Poison  45      49       49       65       65   \n",
       "1    2        Ivysaur   Grass  Poison  60      62       63       80       80   \n",
       "2    3       Venusaur   Grass  Poison  80      82       83      100      100   \n",
       "3    4  Mega Venusaur   Grass  Poison  80     100      123      122      120   \n",
       "4    5     Charmander    Fire     NaN  39      52       43       60       50   \n",
       "\n",
       "   Speed  Legendary  \n",
       "0     45      False  \n",
       "1     60      False  \n",
       "2     80      False  \n",
       "3     80      False  \n",
       "4     65      False  "
      ]
     },
     "execution_count": 25,
     "metadata": {},
     "output_type": "execute_result"
    }
   ],
   "source": [
    "import pandas as pd\n",
    "df4 = pd.read_csv('pokemon.csv')\n",
    "df4.head()"
   ]
  },
  {
   "cell_type": "markdown",
   "id": "9c10c67a",
   "metadata": {
    "id": "216b24ea"
   },
   "source": [
    "### Вопрос 1"
   ]
  },
  {
   "cell_type": "markdown",
   "id": "a99e28cd",
   "metadata": {
    "id": "83dadefc"
   },
   "source": [
    "Профессор Оук подозревает, что покемоны в классе `grass` имеют более сильную обычную атаку, чем у покемонов в классе `rock`. Проверьте, прав ли он, и убедите его в своем выводе статистически. "
   ]
  },
  {
   "cell_type": "markdown",
   "id": "853bd32e",
   "metadata": {},
   "source": [
    "Формулируем гипотезы: \n",
    "Нулевая гипотеза - \n",
    "\n",
    "- H_0: $ \\mu_1 >= \\mu_2 $\n",
    "- H_1: $ \\mu_1 < \\mu_2 $\n",
    "\n",
    "Вследствие неизвестности дисперсии используем t-тест."
   ]
  },
  {
   "cell_type": "code",
   "execution_count": 30,
   "id": "06e21f58",
   "metadata": {
    "id": "fb6a5007"
   },
   "outputs": [
    {
     "data": {
      "text/plain": [
       "0.00039446740339659745"
      ]
     },
     "execution_count": 30,
     "metadata": {},
     "output_type": "execute_result"
    }
   ],
   "source": [
    "grass, rock = df4[df4[\"Class 1\"] == \"Grass\"][\"Attack\"], df4[df4[\"Class 1\"] == \"Rock\"][\"Attack\"]\n",
    "\n",
    "results = ss.ttest_ind(grass, rock, 0)\n",
    "results[1]/2"
   ]
  },
  {
   "cell_type": "markdown",
   "id": "5918cb70",
   "metadata": {},
   "source": [
    "p-value меньше 0,01 (уровень значимости), нулевая гипотеза отвергается, класс \"Rock\" имеет большую силу атаки в среднем чем класс \"Grass\"."
   ]
  },
  {
   "cell_type": "markdown",
   "id": "b4ed3e19",
   "metadata": {
    "id": "efe3805e"
   },
   "source": [
    "### Вопрос 2"
   ]
  },
  {
   "cell_type": "markdown",
   "id": "6376da86",
   "metadata": {
    "id": "baeb5aeb"
   },
   "source": [
    "Также профессор Оук очень хочет проверить, правда ли нет значимой разницы между силой обычной атаки и силой обычной защиты у покемонов. Помогите ему и ответьте на вопрос, подтвердив свои выводы с помощью проверки статистических гипотез"
   ]
  },
  {
   "cell_type": "markdown",
   "id": "8f18d296",
   "metadata": {},
   "source": [
    "Формулируем гипотезы: \n",
    "Нулевая гипотеза - \n",
    "\n",
    "- H_0: $ \\mu_1 = \\mu_2 $\n",
    "- H_1: $ \\mu_1 != \\mu_2 $\n",
    "\n",
    "Вследствие неизвестности дисперсии используем t-тест."
   ]
  },
  {
   "cell_type": "code",
   "execution_count": 35,
   "id": "21157c71",
   "metadata": {
    "id": "a8ae940e"
   },
   "outputs": [
    {
     "data": {
      "text/plain": [
       "Ttest_relResult(statistic=4.325566393330478, pvalue=1.7140303479358558e-05)"
      ]
     },
     "execution_count": 35,
     "metadata": {},
     "output_type": "execute_result"
    }
   ],
   "source": [
    "att, deff = df4[\"Attack\"], df4[\"Defense\"]\n",
    "\n",
    "results = ss.ttest_rel(att, deff)\n",
    "results"
   ]
  },
  {
   "cell_type": "markdown",
   "id": "29e53136",
   "metadata": {},
   "source": [
    "p-value меньше 0,01 (уровень значимости), нулевая гипотеза отвергается, есть значимые отличия в средних атаки и защиты."
   ]
  },
  {
   "cell_type": "markdown",
   "id": "1d66b849",
   "metadata": {
    "id": "55c372da"
   },
   "source": [
    "### Вопрос 3"
   ]
  },
  {
   "cell_type": "markdown",
   "id": "edf4b42d",
   "metadata": {
    "id": "781cbb94"
   },
   "source": [
    "И последний вопрос, который мучает профессора Оука: правда ли, что средняя скорость покемонов превышает 66.6 ? Сформулируйте подходящие гипотезы и помогите профессору Оуку, ответив на вопрос."
   ]
  },
  {
   "cell_type": "markdown",
   "id": "e14b2323",
   "metadata": {},
   "source": [
    "Формулируем гипотезы: \n",
    "Нулевая гипотеза - \n",
    "\n",
    "- H_0: $ \\mu_1 = 66.6 $\n",
    "- H_1: $ \\mu_1 > 66.6 $\n"
   ]
  },
  {
   "cell_type": "code",
   "execution_count": 40,
   "id": "5421b585",
   "metadata": {
    "id": "aefbfc32"
   },
   "outputs": [
    {
     "data": {
      "text/plain": [
       "0.025731833774542783"
      ]
     },
     "execution_count": 40,
     "metadata": {},
     "output_type": "execute_result"
    }
   ],
   "source": [
    "spe = df4[\"Speed\"]\n",
    "results = ss.ttest_1samp(spe, 66.6, alternative='greater')\n",
    "results[1]/2"
   ]
  },
  {
   "cell_type": "markdown",
   "id": "b3eaa933",
   "metadata": {},
   "source": [
    "p-value больше 0,01 (уровень значимости), нулевая гипотеза не отвергается, скорее всего средняя скорость равна 66.6."
   ]
  },
  {
   "cell_type": "code",
   "execution_count": null,
   "id": "7e6e86cf",
   "metadata": {},
   "outputs": [],
   "source": []
  }
 ],
 "metadata": {
  "colab": {
   "name": "DZ3_DS.ipynb",
   "provenance": []
  },
  "kernelspec": {
   "display_name": "Python 3 (ipykernel)",
   "language": "python",
   "name": "python3"
  },
  "language_info": {
   "codemirror_mode": {
    "name": "ipython",
    "version": 3
   },
   "file_extension": ".py",
   "mimetype": "text/x-python",
   "name": "python",
   "nbconvert_exporter": "python",
   "pygments_lexer": "ipython3",
   "version": "3.9.7"
  }
 },
 "nbformat": 4,
 "nbformat_minor": 5
}
